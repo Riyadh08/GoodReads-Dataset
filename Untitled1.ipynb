{
 "cells": [
  {
   "cell_type": "code",
   "execution_count": 1,
   "id": "0ad749ac-f456-4dff-adb3-180296365582",
   "metadata": {},
   "outputs": [],
   "source": [
    "import pandas as pd"
   ]
  },
  {
   "cell_type": "code",
   "execution_count": 3,
   "id": "5663a465-4f5d-4a09-bdc6-d53aee9fe44f",
   "metadata": {},
   "outputs": [],
   "source": [
    "df = pd.read_csv('User_Url.csv')"
   ]
  },
  {
   "cell_type": "code",
   "execution_count": 17,
   "id": "06f6614e-d02d-4b54-bb3e-386a7863e74c",
   "metadata": {},
   "outputs": [
    {
     "name": "stdout",
     "output_type": "stream",
     "text": [
      "Transformed URLs have been saved to output.csv\n"
     ]
    }
   ],
   "source": [
    "import pandas as pd\n",
    "import re\n",
    "\n",
    "# Function to transform URL\n",
    "def transform_url(url):\n",
    "    match = re.search(r'/author/show/(\\d+)\\.(.+?)(?:\\?|$)', url)\n",
    "    if match:\n",
    "        author_id, author_name = match.groups()\n",
    "        # Construct the new URL with page=1\n",
    "        return f\"https://www.goodreads.com/author/list/{author_id}.{author_name}?page=1&per_page=30\"\n",
    "    return None\n",
    "\n",
    "# Read input CSV\n",
    "input_file = \"authors.csv\"  # Replace with your input CSV file name\n",
    "output_file = \"output.csv\"  # Replace with your output CSV file name\n",
    "\n",
    "# Load CSV into a DataFrame\n",
    "df = pd.read_csv(input_file)\n",
    "\n",
    "# Assuming the URLs are in a column named \"Author\"\n",
    "df['transformed_url'] = df['Author'].apply(transform_url)\n",
    "\n",
    "# Save only the transformed URLs to another CSV\n",
    "df[['transformed_url']].to_csv(output_file, index=False)\n",
    "\n",
    "print(f\"Transformed URLs have been saved to {output_file}\")\n"
   ]
  },
  {
   "cell_type": "code",
   "execution_count": 18,
   "id": "e8aac3f8-6cdf-4ff1-8bfe-c1ebb7a7651b",
   "metadata": {},
   "outputs": [
    {
     "name": "stdout",
     "output_type": "stream",
     "text": [
      "Transformed URLs have been saved to output2.csv\n"
     ]
    }
   ],
   "source": [
    "import pandas as pd\n",
    "import re\n",
    "\n",
    "# Function to transform URL\n",
    "def transform_url(url):\n",
    "    match = re.search(r'/author/show/(\\d+)\\.(.+?)(?:\\?|$)', url)\n",
    "    if match:\n",
    "        author_id, author_name = match.groups()\n",
    "        # Construct the new URL for author followings with page=1\n",
    "        return f\"https://www.goodreads.com/author_followings?id={author_id}&method=get&page=1\"\n",
    "    return None\n",
    "\n",
    "# Read input CSV\n",
    "input_file = \"authors.csv\"  # Replace with your input CSV file name\n",
    "output_file = \"output2.csv\"  # Replace with your output CSV file name\n",
    "\n",
    "# Load CSV into a DataFrame\n",
    "df = pd.read_csv(input_file)\n",
    "\n",
    "# Assuming the URLs are in a column named \"Author\"\n",
    "df['transformed_url'] = df['Author'].apply(transform_url)\n",
    "\n",
    "# Save only the transformed URLs to another CSV\n",
    "df[['transformed_url']].to_csv(output_file, index=False)\n",
    "\n",
    "print(f\"Transformed URLs have been saved to {output_file}\")\n"
   ]
  },
  {
   "cell_type": "code",
   "execution_count": null,
   "id": "5ed5c026-68d3-4845-a1a9-0930e9c1384e",
   "metadata": {},
   "outputs": [],
   "source": []
  }
 ],
 "metadata": {
  "kernelspec": {
   "display_name": "Python 3 (ipykernel)",
   "language": "python",
   "name": "python3"
  },
  "language_info": {
   "codemirror_mode": {
    "name": "ipython",
    "version": 3
   },
   "file_extension": ".py",
   "mimetype": "text/x-python",
   "name": "python",
   "nbconvert_exporter": "python",
   "pygments_lexer": "ipython3",
   "version": "3.11.7"
  }
 },
 "nbformat": 4,
 "nbformat_minor": 5
}
