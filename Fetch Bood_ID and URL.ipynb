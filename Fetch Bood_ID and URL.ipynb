{
 "cells": [
  {
   "cell_type": "code",
   "execution_count": null,
   "id": "48080e59-fe2b-41f7-9850-8a58f3972b01",
   "metadata": {},
   "outputs": [],
   "source": [
    "import requests\n",
    "from bs4 import BeautifulSoup\n",
    "import pandas as pd\n",
    "\n",
    "# Define headers\n",
    "headers = {\n",
    "    'User-Agent': 'Mozilla/5.0 (Windows NT 10.0; Win64; x64) AppleWebKit/537.36 (KHTML, like Gecko) Chrome/58.0.3029.110 Safari/537.3'\n",
    "}\n",
    "\n",
    "# Initialize the list to store book data\n",
    "master_list = []\n",
    "\n",
    "# Loop through the pages\n",
    "for i in range(1, 3 + 1):  # Adjust range as needed\n",
    "    url = f\"https://www.goodreads.com/shelf/show/bengali?page={i}\"\n",
    "    response = requests.get(url, headers=headers)\n",
    "    soup = BeautifulSoup(response.content, 'html.parser')\n",
    "\n",
    "    # Find all book items\n",
    "    for x in soup.find_all('a', {\"class\": \"bookTitle\"}):\n",
    "        # Extract the URL\n",
    "        book_url = 'https://www.goodreads.com' + x['href']\n",
    "        \n",
    "        # Extract the book ID from the href URL\n",
    "        book_id = x['href'].split('/')[-1] # Extracting the ID from the URL\n",
    "        book_id = book_id.split('.')[0]\n",
    "        \n",
    "        # Append the data as a dictionary\n",
    "        master_list.append({\n",
    "            'Book_ID': book_id,\n",
    "            'URL': book_url\n",
    "        })\n",
    "\n",
    "# Convert the master_list into a pandas DataFrame\n",
    "df = pd.DataFrame(master_list)\n",
    "\n",
    "# Save the data to a CSV file\n",
    "df.to_csv('books_with_ids.csv', index=False)\n",
    "\n",
    "# Check the number of books scraped\n",
    "print(len(master_list))\n"
   ]
  },
  {
   "cell_type": "code",
   "execution_count": null,
   "id": "4982f482-ff03-44f4-b1b9-61cbf631ad69",
   "metadata": {},
   "outputs": [],
   "source": []
  }
 ],
 "metadata": {
  "kernelspec": {
   "display_name": "Python 3 (ipykernel)",
   "language": "python",
   "name": "python3"
  },
  "language_info": {
   "codemirror_mode": {
    "name": "ipython",
    "version": 3
   },
   "file_extension": ".py",
   "mimetype": "text/x-python",
   "name": "python",
   "nbconvert_exporter": "python",
   "pygments_lexer": "ipython3",
   "version": "3.11.7"
  }
 },
 "nbformat": 4,
 "nbformat_minor": 5
}
