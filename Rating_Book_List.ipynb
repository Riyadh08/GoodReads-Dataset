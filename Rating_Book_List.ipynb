{
 "cells": [
  {
   "cell_type": "code",
   "execution_count": 8,
   "id": "1ea97d21-c13c-4e58-963e-c8e65c620534",
   "metadata": {},
   "outputs": [],
   "source": [
    "import pandas as pd\n",
    "\n",
    "# Load the CSV file\n",
    "df = pd.read_csv(\"User_Url.csv\")\n",
    "\n",
    "# Replace '/user/show/' with '/review/list/' in each URL\n",
    "df['Updated_Url'] = df.iloc[:, 0].str.replace('/user/show/', '/review/list/')\n",
    "\n",
    "# Append the query string to the modified URLs\n",
    "df['Updated_Url'] = df['Updated_Url'] + \"?page=1&sort=rating&view=reviews\"\n",
    "\n",
    "# Save the updated URLs to a new CSV file\n",
    "df[['Updated_Url']].to_csv(\"rating_book_list.csv\", index=False)\n"
   ]
  },
  {
   "cell_type": "code",
   "execution_count": null,
   "id": "6863de82-a85c-47fe-84fa-e69409c25462",
   "metadata": {},
   "outputs": [],
   "source": []
  },
  {
   "cell_type": "code",
   "execution_count": null,
   "id": "7fb27d3d-1908-4d99-ae59-6910c99f494a",
   "metadata": {},
   "outputs": [],
   "source": []
  }
 ],
 "metadata": {
  "kernelspec": {
   "display_name": "Python 3 (ipykernel)",
   "language": "python",
   "name": "python3"
  },
  "language_info": {
   "codemirror_mode": {
    "name": "ipython",
    "version": 3
   },
   "file_extension": ".py",
   "mimetype": "text/x-python",
   "name": "python",
   "nbconvert_exporter": "python",
   "pygments_lexer": "ipython3",
   "version": "3.11.7"
  }
 },
 "nbformat": 4,
 "nbformat_minor": 5
}
